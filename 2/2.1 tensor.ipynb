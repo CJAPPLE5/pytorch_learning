{
 "cells": [
  {
   "cell_type": "code",
   "execution_count": 1,
   "metadata": {},
   "outputs": [],
   "source": [
    "import torch"
   ]
  },
  {
   "cell_type": "code",
   "execution_count": 10,
   "metadata": {},
   "outputs": [
    {
     "name": "stdout",
     "output_type": "stream",
     "text": [
      "tensor([[9.2755e-39, 8.9082e-39, 9.9184e-39],\n",
      "        [8.4490e-39, 9.6429e-39, 1.0653e-38],\n",
      "        [1.0469e-38, 4.2246e-39, 1.0378e-38],\n",
      "        [9.6429e-39, 9.2755e-39, 9.7346e-39],\n",
      "        [1.0745e-38, 1.0102e-38, 9.9184e-39]])\n"
     ]
    }
   ],
   "source": [
    "#empty tensor\n",
    "x = torch.empty(5,3)\n",
    "print(x)"
   ]
  },
  {
   "cell_type": "code",
   "execution_count": 3,
   "metadata": {},
   "outputs": [
    {
     "name": "stdout",
     "output_type": "stream",
     "text": [
      "tensor([[0.9274, 0.2922, 0.4086],\n",
      "        [0.6355, 0.2519, 0.8080],\n",
      "        [0.4403, 0.4958, 0.5786],\n",
      "        [0.9660, 0.0985, 0.2365],\n",
      "        [0.7625, 0.3096, 0.2583]])\n"
     ]
    }
   ],
   "source": [
    "#random init\n",
    "x = torch.rand(5,3)\n",
    "print(x)"
   ]
  },
  {
   "cell_type": "code",
   "execution_count": 4,
   "metadata": {},
   "outputs": [
    {
     "name": "stdout",
     "output_type": "stream",
     "text": [
      "tensor([[0, 0, 0],\n",
      "        [0, 0, 0],\n",
      "        [0, 0, 0],\n",
      "        [0, 0, 0],\n",
      "        [0, 0, 0]])\n"
     ]
    }
   ],
   "source": [
    "#zero and long type\n",
    "x = torch.zeros(5,3,dtype = torch.long)\n",
    "print(x)"
   ]
  },
  {
   "cell_type": "code",
   "execution_count": 5,
   "metadata": {},
   "outputs": [
    {
     "name": "stdout",
     "output_type": "stream",
     "text": [
      "tensor([5.5000, 3.0000])\n"
     ]
    }
   ],
   "source": [
    "#\n",
    "x = torch.tensor([5.5,3])\n",
    "print(x)"
   ]
  },
  {
   "cell_type": "code",
   "execution_count": 6,
   "metadata": {},
   "outputs": [
    {
     "name": "stdout",
     "output_type": "stream",
     "text": [
      "tensor([[1., 1., 1.],\n",
      "        [1., 1., 1.],\n",
      "        [1., 1., 1.],\n",
      "        [1., 1., 1.],\n",
      "        [1., 1., 1.]], dtype=torch.float64)\n",
      "tensor([[ 2.0912, -1.1249, -0.2782],\n",
      "        [-0.9492,  0.2929, -0.5252],\n",
      "        [-0.0819, -0.4138, -1.3509],\n",
      "        [-0.4980,  0.1304,  2.5223],\n",
      "        [-0.1272, -1.2293, -0.1664]])\n"
     ]
    }
   ],
   "source": [
    "x = x.new_ones(5, 3, dtype=torch.double)      \n",
    "# new_* methods take in sizes\n",
    "print(x)\n",
    "\n",
    "x = torch.randn_like(x, dtype=torch.float)\n",
    "\n",
    "# override dtype!\n",
    "print(x)\n",
    "\n",
    "# result has the same size"
   ]
  },
  {
   "cell_type": "code",
   "execution_count": 9,
   "metadata": {},
   "outputs": [
    {
     "name": "stdout",
     "output_type": "stream",
     "text": [
      "tensor([[ 2.3340, -0.4519,  0.5002],\n",
      "        [-0.3320,  1.0181,  0.4141],\n",
      "        [ 0.4160,  0.5123, -0.7420],\n",
      "        [-0.2941,  0.8343,  3.1804],\n",
      "        [ 0.6462, -0.7257,  0.4823]])\n",
      "tensor([[ 2.3340, -0.4519,  0.5002],\n",
      "        [-0.3320,  1.0181,  0.4141],\n",
      "        [ 0.4160,  0.5123, -0.7420],\n",
      "        [-0.2941,  0.8343,  3.1804],\n",
      "        [ 0.6462, -0.7257,  0.4823]])\n",
      "tensor([[ 2.3340, -0.4519,  0.5002],\n",
      "        [-0.3320,  1.0181,  0.4141],\n",
      "        [ 0.4160,  0.5123, -0.7420],\n",
      "        [-0.2941,  0.8343,  3.1804],\n",
      "        [ 0.6462, -0.7257,  0.4823]])\n"
     ]
    }
   ],
   "source": [
    "#add\n",
    "y = torch.rand(5,3)\n",
    "print(x+y)\n",
    "print(torch.add(x,y))\n",
    "result = torch.empty(5,3)\n",
    "torch.add(x,y,out=result)\n",
    "print(result)"
   ]
  },
  {
   "cell_type": "code",
   "execution_count": 11,
   "metadata": {},
   "outputs": [
    {
     "name": "stdout",
     "output_type": "stream",
     "text": [
      "tensor([-0.7442, -1.3060, -0.5225, -1.0577,  0.0253,  0.2748, -0.1371,  0.2808,\n",
      "        -1.0502,  0.0616, -0.3357,  1.2899,  2.6178, -1.0529, -1.0069, -0.2950])\n",
      "tensor([[[-0.7442, -1.3060],\n",
      "         [-0.5225, -1.0577]],\n",
      "\n",
      "        [[ 0.0253,  0.2748],\n",
      "         [-0.1371,  0.2808]],\n",
      "\n",
      "        [[-1.0502,  0.0616],\n",
      "         [-0.3357,  1.2899]],\n",
      "\n",
      "        [[ 2.6178, -1.0529],\n",
      "         [-1.0069, -0.2950]]])\n"
     ]
    }
   ],
   "source": [
    "#change shape\n",
    "x = torch.randn(4,4)\n",
    "print(x.view(16))\n",
    "print(x.view(4,2,2))"
   ]
  },
  {
   "cell_type": "code",
   "execution_count": 14,
   "metadata": {},
   "outputs": [
    {
     "name": "stdout",
     "output_type": "stream",
     "text": [
      "-1.3060381412506104\n"
     ]
    }
   ],
   "source": [
    "#get the value\n",
    "print(x[0,1].item())"
   ]
  },
  {
   "cell_type": "code",
   "execution_count": null,
   "metadata": {},
   "outputs": [],
   "source": []
  }
 ],
 "metadata": {
  "kernelspec": {
   "display_name": "Python 3",
   "language": "python",
   "name": "python3"
  },
  "language_info": {
   "codemirror_mode": {
    "name": "ipython",
    "version": 3
   },
   "file_extension": ".py",
   "mimetype": "text/x-python",
   "name": "python",
   "nbconvert_exporter": "python",
   "pygments_lexer": "ipython3",
   "version": "3.7.3"
  }
 },
 "nbformat": 4,
 "nbformat_minor": 2
}
