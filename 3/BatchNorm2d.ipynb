{
 "cells": [
  {
   "cell_type": "code",
   "execution_count": 1,
   "metadata": {},
   "outputs": [],
   "source": [
    "from torch import nn\n",
    "import torch"
   ]
  },
  {
   "cell_type": "code",
   "execution_count": 8,
   "metadata": {},
   "outputs": [
    {
     "name": "stdout",
     "output_type": "stream",
     "text": [
      "The mean value of the first channel is -0.231973\n",
      "The mean value of the first channel is -0.099474\n",
      "The mean value of the first channel is -0.383168\n",
      "The output mean value of the BN layer is -0.231973, -0.099474, -0.383168\n",
      "torch.Size([4, 3, 2, 2])\n"
     ]
    }
   ],
   "source": [
    "m = nn.BatchNorm2d(3,momentum=1)\n",
    "\n",
    "inputs = torch.randn(4,3,2,2)\n",
    "output = m(inputs)\n",
    "\n",
    "a = (inputs[0,0,:,:] + inputs[1,0,:,:] + inputs[2,0,:,:] + inputs[3,0,:,:]).sum()/16\n",
    "b = (inputs[0,1, :, :]+inputs[1, 1, :, :]+inputs[2, 1, :, :]+inputs[3, 1, :, :]).sum()/16\n",
    "c = (inputs[0, 2, :, :]+inputs[1, 2, :, :]+inputs[2, 2, :, :]+inputs[3, 2, :, :]).sum()/16\n",
    "print('The mean value of the first channel is %f' % a.data)\n",
    "print('The mean value of the first channel is %f' % b.data)\n",
    "print('The mean value of the first channel is %f' % c.data)\n",
    "print('The output mean value of the BN layer is %f, %f, %f'% \n",
    "      (m.running_mean.data[0],m.running_mean.data[1],m.running_mean.data[2]))\n",
    "print(output.size())"
   ]
  },
  {
   "cell_type": "code",
   "execution_count": null,
   "metadata": {},
   "outputs": [],
   "source": []
  }
 ],
 "metadata": {
  "kernelspec": {
   "display_name": "Python 3",
   "language": "python",
   "name": "python3"
  },
  "language_info": {
   "codemirror_mode": {
    "name": "ipython",
    "version": 3
   },
   "file_extension": ".py",
   "mimetype": "text/x-python",
   "name": "python",
   "nbconvert_exporter": "python",
   "pygments_lexer": "ipython3",
   "version": "3.7.3"
  }
 },
 "nbformat": 4,
 "nbformat_minor": 2
}
